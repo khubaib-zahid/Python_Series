{
 "cells": [
  {
   "cell_type": "code",
   "execution_count": 1,
   "id": "4758254d",
   "metadata": {},
   "outputs": [
    {
     "name": "stdout",
     "output_type": "stream",
     "text": [
      "Requirement already satisfied: category-encoders in c:\\users\\datawizard\\anaconda3\\lib\\site-packages (2.6.0)\n",
      "Requirement already satisfied: numpy>=1.14.0 in c:\\users\\datawizard\\anaconda3\\lib\\site-packages (from category-encoders) (1.21.5)\n",
      "Requirement already satisfied: scipy>=1.0.0 in c:\\users\\datawizard\\appdata\\roaming\\python\\python39\\site-packages (from category-encoders) (1.6.2)\n",
      "Requirement already satisfied: patsy>=0.5.1 in c:\\users\\datawizard\\anaconda3\\lib\\site-packages (from category-encoders) (0.5.2)\n",
      "Requirement already satisfied: statsmodels>=0.9.0 in c:\\users\\datawizard\\anaconda3\\lib\\site-packages (from category-encoders) (0.13.2)\n",
      "Requirement already satisfied: scikit-learn>=0.20.0 in c:\\users\\datawizard\\anaconda3\\lib\\site-packages (from category-encoders) (1.0.2)\n",
      "Requirement already satisfied: pandas>=1.0.5 in c:\\users\\datawizard\\anaconda3\\lib\\site-packages (from category-encoders) (1.4.2)\n",
      "Requirement already satisfied: python-dateutil>=2.8.1 in c:\\users\\datawizard\\anaconda3\\lib\\site-packages (from pandas>=1.0.5->category-encoders) (2.8.2)\n",
      "Requirement already satisfied: pytz>=2020.1 in c:\\users\\datawizard\\anaconda3\\lib\\site-packages (from pandas>=1.0.5->category-encoders) (2021.3)\n",
      "Requirement already satisfied: six in c:\\users\\datawizard\\anaconda3\\lib\\site-packages (from patsy>=0.5.1->category-encoders) (1.16.0)\n",
      "Requirement already satisfied: threadpoolctl>=2.0.0 in c:\\users\\datawizard\\anaconda3\\lib\\site-packages (from scikit-learn>=0.20.0->category-encoders) (2.2.0)\n",
      "Requirement already satisfied: joblib>=0.11 in c:\\users\\datawizard\\anaconda3\\lib\\site-packages (from scikit-learn>=0.20.0->category-encoders) (1.1.0)\n",
      "Requirement already satisfied: packaging>=21.3 in c:\\users\\datawizard\\anaconda3\\lib\\site-packages (from statsmodels>=0.9.0->category-encoders) (21.3)\n",
      "Requirement already satisfied: pyparsing!=3.0.5,>=2.0.2 in c:\\users\\datawizard\\anaconda3\\lib\\site-packages (from packaging>=21.3->statsmodels>=0.9.0->category-encoders) (3.0.4)\n",
      "Note: you may need to restart the kernel to use updated packages.\n"
     ]
    }
   ],
   "source": [
    "pip install category-encoders"
   ]
  },
  {
   "cell_type": "code",
   "execution_count": 2,
   "id": "1ac816d6",
   "metadata": {},
   "outputs": [],
   "source": [
    "import numpy as np # linear algebra\n",
    "import pandas as pd # data processing, CSV file I/O (e.g. pd.read_csv)\n",
    "import seaborn as sns\n",
    "import matplotlib.pyplot as plt\n",
    "from category_encoders import OrdinalEncoder\n",
    "from sklearn.linear_model import LogisticRegression\n",
    "from sklearn.model_selection import train_test_split\n",
    "\n",
    "from sklearn.pipeline import make_pipeline\n",
    "from sklearn.metrics import accuracy_score, classification_report\n",
    "from sklearn.impute import SimpleImputer"
   ]
  },
  {
   "cell_type": "code",
   "execution_count": 3,
   "id": "f6ba1935",
   "metadata": {},
   "outputs": [],
   "source": [
    "def wrangle(filepath):\n",
    "#     read data\n",
    "    data = pd.read_csv(filepath)\n",
    "    \n",
    "#     remove column which have missing values more than 40%\n",
    "    data.dropna(axis=\"columns\", thresh=int(data.shape[0]*0.6), inplace=True)\n",
    "    \n",
    "    return data"
   ]
  },
  {
   "cell_type": "code",
   "execution_count": 4,
   "id": "557757f6",
   "metadata": {},
   "outputs": [
    {
     "data": {
      "text/html": [
       "<div>\n",
       "<style scoped>\n",
       "    .dataframe tbody tr th:only-of-type {\n",
       "        vertical-align: middle;\n",
       "    }\n",
       "\n",
       "    .dataframe tbody tr th {\n",
       "        vertical-align: top;\n",
       "    }\n",
       "\n",
       "    .dataframe thead th {\n",
       "        text-align: right;\n",
       "    }\n",
       "</style>\n",
       "<table border=\"1\" class=\"dataframe\">\n",
       "  <thead>\n",
       "    <tr style=\"text-align: right;\">\n",
       "      <th></th>\n",
       "      <th>Diagnosis</th>\n",
       "      <th>Anhedonia</th>\n",
       "      <th>Apathy</th>\n",
       "      <th>Appetite</th>\n",
       "      <th>Concentration</th>\n",
       "      <th>Content</th>\n",
       "      <th>Delay</th>\n",
       "      <th>Delusion</th>\n",
       "      <th>Dep_Mood</th>\n",
       "      <th>Focus</th>\n",
       "      <th>...</th>\n",
       "      <th>Psychomotor</th>\n",
       "      <th>Race</th>\n",
       "      <th>Rumination</th>\n",
       "      <th>Sex</th>\n",
       "      <th>Sleep</th>\n",
       "      <th>Stress</th>\n",
       "      <th>Tension</th>\n",
       "      <th>Tired</th>\n",
       "      <th>Unusual_Thought</th>\n",
       "      <th>Withdrawal</th>\n",
       "    </tr>\n",
       "  </thead>\n",
       "  <tbody>\n",
       "    <tr>\n",
       "      <th>0</th>\n",
       "      <td>1</td>\n",
       "      <td>4.501446</td>\n",
       "      <td>3.056575</td>\n",
       "      <td>9.283891</td>\n",
       "      <td>8.305502</td>\n",
       "      <td>0.006142</td>\n",
       "      <td>Yes</td>\n",
       "      <td>1.170842</td>\n",
       "      <td>8.177884</td>\n",
       "      <td>8.305502</td>\n",
       "      <td>...</td>\n",
       "      <td>3.854579</td>\n",
       "      <td>White</td>\n",
       "      <td>5.041432</td>\n",
       "      <td>Female</td>\n",
       "      <td>6.552082</td>\n",
       "      <td>5.915492</td>\n",
       "      <td>6.371877</td>\n",
       "      <td>4.537270</td>\n",
       "      <td>3.744410</td>\n",
       "      <td>5.242819</td>\n",
       "    </tr>\n",
       "    <tr>\n",
       "      <th>1</th>\n",
       "      <td>0</td>\n",
       "      <td>5.432608</td>\n",
       "      <td>0.307721</td>\n",
       "      <td>25.809400</td>\n",
       "      <td>5.060206</td>\n",
       "      <td>0.062209</td>\n",
       "      <td>Yes</td>\n",
       "      <td>2.272548</td>\n",
       "      <td>11.162913</td>\n",
       "      <td>5.060206</td>\n",
       "      <td>...</td>\n",
       "      <td>5.821110</td>\n",
       "      <td>White</td>\n",
       "      <td>4.656790</td>\n",
       "      <td>Male</td>\n",
       "      <td>5.558434</td>\n",
       "      <td>4.008265</td>\n",
       "      <td>2.238665</td>\n",
       "      <td>6.113746</td>\n",
       "      <td>0.720458</td>\n",
       "      <td>3.797242</td>\n",
       "    </tr>\n",
       "    <tr>\n",
       "      <th>2</th>\n",
       "      <td>0</td>\n",
       "      <td>6.557500</td>\n",
       "      <td>-1.412208</td>\n",
       "      <td>24.842012</td>\n",
       "      <td>6.504229</td>\n",
       "      <td>0.071532</td>\n",
       "      <td>No</td>\n",
       "      <td>1.439095</td>\n",
       "      <td>5.887363</td>\n",
       "      <td>6.504229</td>\n",
       "      <td>...</td>\n",
       "      <td>7.893102</td>\n",
       "      <td>Black</td>\n",
       "      <td>7.290494</td>\n",
       "      <td>Female</td>\n",
       "      <td>5.787561</td>\n",
       "      <td>7.177926</td>\n",
       "      <td>6.992499</td>\n",
       "      <td>5.557374</td>\n",
       "      <td>-0.491255</td>\n",
       "      <td>4.421288</td>\n",
       "    </tr>\n",
       "    <tr>\n",
       "      <th>3</th>\n",
       "      <td>0</td>\n",
       "      <td>5.429568</td>\n",
       "      <td>1.686157</td>\n",
       "      <td>24.175853</td>\n",
       "      <td>6.994948</td>\n",
       "      <td>0.278345</td>\n",
       "      <td>No</td>\n",
       "      <td>1.380185</td>\n",
       "      <td>8.943851</td>\n",
       "      <td>6.994948</td>\n",
       "      <td>...</td>\n",
       "      <td>3.812874</td>\n",
       "      <td>White</td>\n",
       "      <td>6.759339</td>\n",
       "      <td>Female</td>\n",
       "      <td>6.787287</td>\n",
       "      <td>2.866815</td>\n",
       "      <td>4.018286</td>\n",
       "      <td>6.136269</td>\n",
       "      <td>0.765388</td>\n",
       "      <td>2.299562</td>\n",
       "    </tr>\n",
       "    <tr>\n",
       "      <th>4</th>\n",
       "      <td>1</td>\n",
       "      <td>5.099846</td>\n",
       "      <td>-0.612506</td>\n",
       "      <td>45.808490</td>\n",
       "      <td>5.869212</td>\n",
       "      <td>0.004214</td>\n",
       "      <td>Yes</td>\n",
       "      <td>1.237976</td>\n",
       "      <td>6.741627</td>\n",
       "      <td>5.869212</td>\n",
       "      <td>...</td>\n",
       "      <td>5.119658</td>\n",
       "      <td>Black</td>\n",
       "      <td>6.190019</td>\n",
       "      <td>Male</td>\n",
       "      <td>7.748312</td>\n",
       "      <td>6.798220</td>\n",
       "      <td>5.063542</td>\n",
       "      <td>4.213723</td>\n",
       "      <td>0.705895</td>\n",
       "      <td>6.547707</td>\n",
       "    </tr>\n",
       "  </tbody>\n",
       "</table>\n",
       "<p>5 rows × 25 columns</p>\n",
       "</div>"
      ],
      "text/plain": [
       "   Diagnosis  Anhedonia    Apathy   Appetite  Concentration   Content Delay  \\\n",
       "0          1   4.501446  3.056575   9.283891       8.305502  0.006142   Yes   \n",
       "1          0   5.432608  0.307721  25.809400       5.060206  0.062209   Yes   \n",
       "2          0   6.557500 -1.412208  24.842012       6.504229  0.071532    No   \n",
       "3          0   5.429568  1.686157  24.175853       6.994948  0.278345    No   \n",
       "4          1   5.099846 -0.612506  45.808490       5.869212  0.004214   Yes   \n",
       "\n",
       "   Delusion   Dep_Mood     Focus  ...  Psychomotor   Race  Rumination     Sex  \\\n",
       "0  1.170842   8.177884  8.305502  ...     3.854579  White    5.041432  Female   \n",
       "1  2.272548  11.162913  5.060206  ...     5.821110  White    4.656790    Male   \n",
       "2  1.439095   5.887363  6.504229  ...     7.893102  Black    7.290494  Female   \n",
       "3  1.380185   8.943851  6.994948  ...     3.812874  White    6.759339  Female   \n",
       "4  1.237976   6.741627  5.869212  ...     5.119658  Black    6.190019    Male   \n",
       "\n",
       "      Sleep    Stress   Tension     Tired Unusual_Thought  Withdrawal  \n",
       "0  6.552082  5.915492  6.371877  4.537270        3.744410    5.242819  \n",
       "1  5.558434  4.008265  2.238665  6.113746        0.720458    3.797242  \n",
       "2  5.787561  7.177926  6.992499  5.557374       -0.491255    4.421288  \n",
       "3  6.787287  2.866815  4.018286  6.136269        0.765388    2.299562  \n",
       "4  7.748312  6.798220  5.063542  4.213723        0.705895    6.547707  \n",
       "\n",
       "[5 rows x 25 columns]"
      ]
     },
     "execution_count": 4,
     "metadata": {},
     "output_type": "execute_result"
    }
   ],
   "source": [
    "data = wrangle(\"MS4S16.csv\")\n",
    "data.head()"
   ]
  },
  {
   "cell_type": "markdown",
   "id": "480284b0",
   "metadata": {},
   "source": [
    "## Data Preprocessing"
   ]
  },
  {
   "cell_type": "code",
   "execution_count": 5,
   "id": "df399b70",
   "metadata": {},
   "outputs": [
    {
     "name": "stdout",
     "output_type": "stream",
     "text": [
      "<class 'pandas.core.frame.DataFrame'>\n",
      "RangeIndex: 5000 entries, 0 to 4999\n",
      "Data columns (total 25 columns):\n",
      " #   Column              Non-Null Count  Dtype  \n",
      "---  ------              --------------  -----  \n",
      " 0   Diagnosis           5000 non-null   int64  \n",
      " 1   Anhedonia           5000 non-null   float64\n",
      " 2   Apathy              5000 non-null   float64\n",
      " 3   Appetite            5000 non-null   float64\n",
      " 4   Concentration       5000 non-null   float64\n",
      " 5   Content             5000 non-null   float64\n",
      " 6   Delay               5000 non-null   object \n",
      " 7   Delusion            5000 non-null   float64\n",
      " 8   Dep_Mood            5000 non-null   float64\n",
      " 9   Focus               5000 non-null   float64\n",
      " 10  Hallucination       5000 non-null   float64\n",
      " 11  Housing             5000 non-null   object \n",
      " 12  Intrusive_Thoughts  4170 non-null   float64\n",
      " 13  Participant         5000 non-null   int64  \n",
      " 14  Passive             5000 non-null   float64\n",
      " 15  Psychomotor         5000 non-null   float64\n",
      " 16  Race                5000 non-null   object \n",
      " 17  Rumination          5000 non-null   float64\n",
      " 18  Sex                 5000 non-null   object \n",
      " 19  Sleep               5000 non-null   float64\n",
      " 20  Stress              5000 non-null   float64\n",
      " 21  Tension             5000 non-null   float64\n",
      " 22  Tired               5000 non-null   float64\n",
      " 23  Unusual_Thought     5000 non-null   float64\n",
      " 24  Withdrawal          5000 non-null   float64\n",
      "dtypes: float64(19), int64(2), object(4)\n",
      "memory usage: 976.7+ KB\n"
     ]
    }
   ],
   "source": [
    "data.info()"
   ]
  },
  {
   "cell_type": "code",
   "execution_count": 6,
   "id": "e310db04",
   "metadata": {},
   "outputs": [
    {
     "data": {
      "text/html": [
       "<div>\n",
       "<style scoped>\n",
       "    .dataframe tbody tr th:only-of-type {\n",
       "        vertical-align: middle;\n",
       "    }\n",
       "\n",
       "    .dataframe tbody tr th {\n",
       "        vertical-align: top;\n",
       "    }\n",
       "\n",
       "    .dataframe thead th {\n",
       "        text-align: right;\n",
       "    }\n",
       "</style>\n",
       "<table border=\"1\" class=\"dataframe\">\n",
       "  <thead>\n",
       "    <tr style=\"text-align: right;\">\n",
       "      <th></th>\n",
       "      <th>Delay</th>\n",
       "      <th>Housing</th>\n",
       "      <th>Race</th>\n",
       "      <th>Sex</th>\n",
       "    </tr>\n",
       "  </thead>\n",
       "  <tbody>\n",
       "    <tr>\n",
       "      <th>count</th>\n",
       "      <td>5000</td>\n",
       "      <td>5000</td>\n",
       "      <td>5000</td>\n",
       "      <td>5000</td>\n",
       "    </tr>\n",
       "    <tr>\n",
       "      <th>unique</th>\n",
       "      <td>2</td>\n",
       "      <td>2</td>\n",
       "      <td>4</td>\n",
       "      <td>2</td>\n",
       "    </tr>\n",
       "    <tr>\n",
       "      <th>top</th>\n",
       "      <td>Yes</td>\n",
       "      <td>Stable</td>\n",
       "      <td>White</td>\n",
       "      <td>Female</td>\n",
       "    </tr>\n",
       "    <tr>\n",
       "      <th>freq</th>\n",
       "      <td>2571</td>\n",
       "      <td>4674</td>\n",
       "      <td>1838</td>\n",
       "      <td>2762</td>\n",
       "    </tr>\n",
       "  </tbody>\n",
       "</table>\n",
       "</div>"
      ],
      "text/plain": [
       "       Delay Housing   Race     Sex\n",
       "count   5000    5000   5000    5000\n",
       "unique     2       2      4       2\n",
       "top      Yes  Stable  White  Female\n",
       "freq    2571    4674   1838    2762"
      ]
     },
     "execution_count": 6,
     "metadata": {},
     "output_type": "execute_result"
    }
   ],
   "source": [
    "# String Data Summary\n",
    "data.select_dtypes(exclude=\"number\").describe()"
   ]
  },
  {
   "cell_type": "markdown",
   "id": "e92fdc65",
   "metadata": {},
   "source": [
    "All Seems Good With String Data"
   ]
  },
  {
   "cell_type": "code",
   "execution_count": 7,
   "id": "08e93877",
   "metadata": {},
   "outputs": [
    {
     "data": {
      "text/html": [
       "<div>\n",
       "<style scoped>\n",
       "    .dataframe tbody tr th:only-of-type {\n",
       "        vertical-align: middle;\n",
       "    }\n",
       "\n",
       "    .dataframe tbody tr th {\n",
       "        vertical-align: top;\n",
       "    }\n",
       "\n",
       "    .dataframe thead th {\n",
       "        text-align: right;\n",
       "    }\n",
       "</style>\n",
       "<table border=\"1\" class=\"dataframe\">\n",
       "  <thead>\n",
       "    <tr style=\"text-align: right;\">\n",
       "      <th></th>\n",
       "      <th>count</th>\n",
       "      <th>mean</th>\n",
       "      <th>std</th>\n",
       "      <th>min</th>\n",
       "      <th>25%</th>\n",
       "      <th>50%</th>\n",
       "      <th>75%</th>\n",
       "      <th>max</th>\n",
       "    </tr>\n",
       "  </thead>\n",
       "  <tbody>\n",
       "    <tr>\n",
       "      <th>Diagnosis</th>\n",
       "      <td>5000.0</td>\n",
       "      <td>0.505800</td>\n",
       "      <td>0.500016</td>\n",
       "      <td>0.000000</td>\n",
       "      <td>0.000000</td>\n",
       "      <td>1.000000</td>\n",
       "      <td>1.000000</td>\n",
       "      <td>1.000000</td>\n",
       "    </tr>\n",
       "    <tr>\n",
       "      <th>Anhedonia</th>\n",
       "      <td>5000.0</td>\n",
       "      <td>6.502860</td>\n",
       "      <td>1.488151</td>\n",
       "      <td>1.098854</td>\n",
       "      <td>5.495361</td>\n",
       "      <td>6.485527</td>\n",
       "      <td>7.489218</td>\n",
       "      <td>11.603140</td>\n",
       "    </tr>\n",
       "    <tr>\n",
       "      <th>Apathy</th>\n",
       "      <td>5000.0</td>\n",
       "      <td>2.478849</td>\n",
       "      <td>1.730810</td>\n",
       "      <td>-3.211011</td>\n",
       "      <td>1.265128</td>\n",
       "      <td>2.427409</td>\n",
       "      <td>3.642059</td>\n",
       "      <td>8.803433</td>\n",
       "    </tr>\n",
       "    <tr>\n",
       "      <th>Appetite</th>\n",
       "      <td>5000.0</td>\n",
       "      <td>27.070029</td>\n",
       "      <td>14.202618</td>\n",
       "      <td>0.141074</td>\n",
       "      <td>16.724108</td>\n",
       "      <td>25.165292</td>\n",
       "      <td>35.447666</td>\n",
       "      <td>113.438734</td>\n",
       "    </tr>\n",
       "    <tr>\n",
       "      <th>Concentration</th>\n",
       "      <td>5000.0</td>\n",
       "      <td>6.519924</td>\n",
       "      <td>1.474846</td>\n",
       "      <td>1.299964</td>\n",
       "      <td>5.528181</td>\n",
       "      <td>6.498042</td>\n",
       "      <td>7.519759</td>\n",
       "      <td>11.649649</td>\n",
       "    </tr>\n",
       "    <tr>\n",
       "      <th>Content</th>\n",
       "      <td>5000.0</td>\n",
       "      <td>0.279407</td>\n",
       "      <td>0.834494</td>\n",
       "      <td>0.000187</td>\n",
       "      <td>0.018655</td>\n",
       "      <td>0.064259</td>\n",
       "      <td>0.215773</td>\n",
       "      <td>21.001327</td>\n",
       "    </tr>\n",
       "    <tr>\n",
       "      <th>Delusion</th>\n",
       "      <td>5000.0</td>\n",
       "      <td>2.637389</td>\n",
       "      <td>1.440347</td>\n",
       "      <td>-2.127037</td>\n",
       "      <td>1.629919</td>\n",
       "      <td>2.558146</td>\n",
       "      <td>3.588012</td>\n",
       "      <td>8.978785</td>\n",
       "    </tr>\n",
       "    <tr>\n",
       "      <th>Dep_Mood</th>\n",
       "      <td>5000.0</td>\n",
       "      <td>5.727062</td>\n",
       "      <td>3.284501</td>\n",
       "      <td>0.000000</td>\n",
       "      <td>4.678095</td>\n",
       "      <td>6.752196</td>\n",
       "      <td>8.045706</td>\n",
       "      <td>12.003550</td>\n",
       "    </tr>\n",
       "    <tr>\n",
       "      <th>Focus</th>\n",
       "      <td>5000.0</td>\n",
       "      <td>6.519924</td>\n",
       "      <td>1.474846</td>\n",
       "      <td>1.299964</td>\n",
       "      <td>5.528181</td>\n",
       "      <td>6.498042</td>\n",
       "      <td>7.519759</td>\n",
       "      <td>11.649649</td>\n",
       "    </tr>\n",
       "    <tr>\n",
       "      <th>Hallucination</th>\n",
       "      <td>5000.0</td>\n",
       "      <td>65.073832</td>\n",
       "      <td>223.943469</td>\n",
       "      <td>0.027350</td>\n",
       "      <td>4.113962</td>\n",
       "      <td>12.764604</td>\n",
       "      <td>41.814204</td>\n",
       "      <td>6287.163151</td>\n",
       "    </tr>\n",
       "    <tr>\n",
       "      <th>Intrusive_Thoughts</th>\n",
       "      <td>4170.0</td>\n",
       "      <td>5.702358</td>\n",
       "      <td>2.374921</td>\n",
       "      <td>-1.386416</td>\n",
       "      <td>3.971305</td>\n",
       "      <td>5.572865</td>\n",
       "      <td>7.363294</td>\n",
       "      <td>13.209009</td>\n",
       "    </tr>\n",
       "    <tr>\n",
       "      <th>Participant</th>\n",
       "      <td>5000.0</td>\n",
       "      <td>1.000000</td>\n",
       "      <td>0.000000</td>\n",
       "      <td>1.000000</td>\n",
       "      <td>1.000000</td>\n",
       "      <td>1.000000</td>\n",
       "      <td>1.000000</td>\n",
       "      <td>1.000000</td>\n",
       "    </tr>\n",
       "    <tr>\n",
       "      <th>Passive</th>\n",
       "      <td>5000.0</td>\n",
       "      <td>-421.766251</td>\n",
       "      <td>496.314191</td>\n",
       "      <td>-999.000000</td>\n",
       "      <td>-999.000000</td>\n",
       "      <td>3.272512</td>\n",
       "      <td>5.114966</td>\n",
       "      <td>9.799751</td>\n",
       "    </tr>\n",
       "    <tr>\n",
       "      <th>Psychomotor</th>\n",
       "      <td>5000.0</td>\n",
       "      <td>4.680583</td>\n",
       "      <td>1.482692</td>\n",
       "      <td>-0.024974</td>\n",
       "      <td>3.697870</td>\n",
       "      <td>4.720156</td>\n",
       "      <td>5.682627</td>\n",
       "      <td>10.171540</td>\n",
       "    </tr>\n",
       "    <tr>\n",
       "      <th>Rumination</th>\n",
       "      <td>5000.0</td>\n",
       "      <td>5.685816</td>\n",
       "      <td>2.161891</td>\n",
       "      <td>-0.409032</td>\n",
       "      <td>4.042552</td>\n",
       "      <td>5.521805</td>\n",
       "      <td>7.276673</td>\n",
       "      <td>12.009666</td>\n",
       "    </tr>\n",
       "    <tr>\n",
       "      <th>Sleep</th>\n",
       "      <td>5000.0</td>\n",
       "      <td>7.011266</td>\n",
       "      <td>1.410841</td>\n",
       "      <td>2.144726</td>\n",
       "      <td>6.058402</td>\n",
       "      <td>6.980519</td>\n",
       "      <td>7.977138</td>\n",
       "      <td>11.920312</td>\n",
       "    </tr>\n",
       "    <tr>\n",
       "      <th>Stress</th>\n",
       "      <td>5000.0</td>\n",
       "      <td>4.916418</td>\n",
       "      <td>2.220262</td>\n",
       "      <td>-3.257788</td>\n",
       "      <td>3.443683</td>\n",
       "      <td>5.096416</td>\n",
       "      <td>6.531673</td>\n",
       "      <td>11.970952</td>\n",
       "    </tr>\n",
       "    <tr>\n",
       "      <th>Tension</th>\n",
       "      <td>5000.0</td>\n",
       "      <td>4.920667</td>\n",
       "      <td>1.962342</td>\n",
       "      <td>-2.183456</td>\n",
       "      <td>3.565482</td>\n",
       "      <td>5.247353</td>\n",
       "      <td>6.385145</td>\n",
       "      <td>9.622076</td>\n",
       "    </tr>\n",
       "    <tr>\n",
       "      <th>Tired</th>\n",
       "      <td>5000.0</td>\n",
       "      <td>inf</td>\n",
       "      <td>NaN</td>\n",
       "      <td>0.366650</td>\n",
       "      <td>4.491580</td>\n",
       "      <td>5.513508</td>\n",
       "      <td>6.569176</td>\n",
       "      <td>inf</td>\n",
       "    </tr>\n",
       "    <tr>\n",
       "      <th>Unusual_Thought</th>\n",
       "      <td>5000.0</td>\n",
       "      <td>2.480266</td>\n",
       "      <td>1.410475</td>\n",
       "      <td>-1.981307</td>\n",
       "      <td>1.486439</td>\n",
       "      <td>2.388994</td>\n",
       "      <td>3.426667</td>\n",
       "      <td>8.066822</td>\n",
       "    </tr>\n",
       "    <tr>\n",
       "      <th>Withdrawal</th>\n",
       "      <td>5000.0</td>\n",
       "      <td>3.958121</td>\n",
       "      <td>1.469444</td>\n",
       "      <td>-0.825919</td>\n",
       "      <td>2.969534</td>\n",
       "      <td>3.962131</td>\n",
       "      <td>4.972302</td>\n",
       "      <td>9.022207</td>\n",
       "    </tr>\n",
       "  </tbody>\n",
       "</table>\n",
       "</div>"
      ],
      "text/plain": [
       "                     count        mean         std         min         25%  \\\n",
       "Diagnosis           5000.0    0.505800    0.500016    0.000000    0.000000   \n",
       "Anhedonia           5000.0    6.502860    1.488151    1.098854    5.495361   \n",
       "Apathy              5000.0    2.478849    1.730810   -3.211011    1.265128   \n",
       "Appetite            5000.0   27.070029   14.202618    0.141074   16.724108   \n",
       "Concentration       5000.0    6.519924    1.474846    1.299964    5.528181   \n",
       "Content             5000.0    0.279407    0.834494    0.000187    0.018655   \n",
       "Delusion            5000.0    2.637389    1.440347   -2.127037    1.629919   \n",
       "Dep_Mood            5000.0    5.727062    3.284501    0.000000    4.678095   \n",
       "Focus               5000.0    6.519924    1.474846    1.299964    5.528181   \n",
       "Hallucination       5000.0   65.073832  223.943469    0.027350    4.113962   \n",
       "Intrusive_Thoughts  4170.0    5.702358    2.374921   -1.386416    3.971305   \n",
       "Participant         5000.0    1.000000    0.000000    1.000000    1.000000   \n",
       "Passive             5000.0 -421.766251  496.314191 -999.000000 -999.000000   \n",
       "Psychomotor         5000.0    4.680583    1.482692   -0.024974    3.697870   \n",
       "Rumination          5000.0    5.685816    2.161891   -0.409032    4.042552   \n",
       "Sleep               5000.0    7.011266    1.410841    2.144726    6.058402   \n",
       "Stress              5000.0    4.916418    2.220262   -3.257788    3.443683   \n",
       "Tension             5000.0    4.920667    1.962342   -2.183456    3.565482   \n",
       "Tired               5000.0         inf         NaN    0.366650    4.491580   \n",
       "Unusual_Thought     5000.0    2.480266    1.410475   -1.981307    1.486439   \n",
       "Withdrawal          5000.0    3.958121    1.469444   -0.825919    2.969534   \n",
       "\n",
       "                          50%        75%          max  \n",
       "Diagnosis            1.000000   1.000000     1.000000  \n",
       "Anhedonia            6.485527   7.489218    11.603140  \n",
       "Apathy               2.427409   3.642059     8.803433  \n",
       "Appetite            25.165292  35.447666   113.438734  \n",
       "Concentration        6.498042   7.519759    11.649649  \n",
       "Content              0.064259   0.215773    21.001327  \n",
       "Delusion             2.558146   3.588012     8.978785  \n",
       "Dep_Mood             6.752196   8.045706    12.003550  \n",
       "Focus                6.498042   7.519759    11.649649  \n",
       "Hallucination       12.764604  41.814204  6287.163151  \n",
       "Intrusive_Thoughts   5.572865   7.363294    13.209009  \n",
       "Participant          1.000000   1.000000     1.000000  \n",
       "Passive              3.272512   5.114966     9.799751  \n",
       "Psychomotor          4.720156   5.682627    10.171540  \n",
       "Rumination           5.521805   7.276673    12.009666  \n",
       "Sleep                6.980519   7.977138    11.920312  \n",
       "Stress               5.096416   6.531673    11.970952  \n",
       "Tension              5.247353   6.385145     9.622076  \n",
       "Tired                5.513508   6.569176          inf  \n",
       "Unusual_Thought      2.388994   3.426667     8.066822  \n",
       "Withdrawal           3.962131   4.972302     9.022207  "
      ]
     },
     "execution_count": 7,
     "metadata": {},
     "output_type": "execute_result"
    }
   ],
   "source": [
    "# Numerical Data Summary\n",
    "data.describe().transpose()"
   ]
  },
  {
   "cell_type": "code",
   "execution_count": 8,
   "id": "45aee8f2",
   "metadata": {},
   "outputs": [],
   "source": [
    "# Column Tired have infinite value so drop it\n",
    "data.drop(\"Tired\", axis=\"columns\", inplace=True)"
   ]
  },
  {
   "cell_type": "code",
   "execution_count": 9,
   "id": "ffca5571",
   "metadata": {},
   "outputs": [
    {
     "data": {
      "text/html": [
       "<div>\n",
       "<style scoped>\n",
       "    .dataframe tbody tr th:only-of-type {\n",
       "        vertical-align: middle;\n",
       "    }\n",
       "\n",
       "    .dataframe tbody tr th {\n",
       "        vertical-align: top;\n",
       "    }\n",
       "\n",
       "    .dataframe thead th {\n",
       "        text-align: right;\n",
       "    }\n",
       "</style>\n",
       "<table border=\"1\" class=\"dataframe\">\n",
       "  <thead>\n",
       "    <tr style=\"text-align: right;\">\n",
       "      <th></th>\n",
       "      <th>Diagnosis</th>\n",
       "      <th>Anhedonia</th>\n",
       "      <th>Apathy</th>\n",
       "      <th>Appetite</th>\n",
       "      <th>Concentration</th>\n",
       "      <th>Content</th>\n",
       "      <th>Delusion</th>\n",
       "      <th>Dep_Mood</th>\n",
       "      <th>Focus</th>\n",
       "      <th>Hallucination</th>\n",
       "      <th>Intrusive_Thoughts</th>\n",
       "      <th>Participant</th>\n",
       "      <th>Passive</th>\n",
       "      <th>Psychomotor</th>\n",
       "      <th>Rumination</th>\n",
       "      <th>Sleep</th>\n",
       "      <th>Stress</th>\n",
       "      <th>Tension</th>\n",
       "      <th>Unusual_Thought</th>\n",
       "      <th>Withdrawal</th>\n",
       "    </tr>\n",
       "  </thead>\n",
       "  <tbody>\n",
       "    <tr>\n",
       "      <th>Diagnosis</th>\n",
       "      <td>1.000000</td>\n",
       "      <td>-0.330155</td>\n",
       "      <td>0.324644</td>\n",
       "      <td>-0.006947</td>\n",
       "      <td>0.329591</td>\n",
       "      <td>-0.134793</td>\n",
       "      <td>0.408914</td>\n",
       "      <td>-0.079799</td>\n",
       "      <td>0.329591</td>\n",
       "      <td>0.170579</td>\n",
       "      <td>-0.550806</td>\n",
       "      <td>NaN</td>\n",
       "      <td>-0.017115</td>\n",
       "      <td>-0.230957</td>\n",
       "      <td>-0.596503</td>\n",
       "      <td>0.025147</td>\n",
       "      <td>0.458557</td>\n",
       "      <td>0.516142</td>\n",
       "      <td>0.394249</td>\n",
       "      <td>0.219410</td>\n",
       "    </tr>\n",
       "    <tr>\n",
       "      <th>Anhedonia</th>\n",
       "      <td>-0.330155</td>\n",
       "      <td>1.000000</td>\n",
       "      <td>-0.087146</td>\n",
       "      <td>0.028458</td>\n",
       "      <td>-0.103457</td>\n",
       "      <td>0.047178</td>\n",
       "      <td>-0.137018</td>\n",
       "      <td>-0.001519</td>\n",
       "      <td>-0.103457</td>\n",
       "      <td>-0.053082</td>\n",
       "      <td>0.195297</td>\n",
       "      <td>NaN</td>\n",
       "      <td>0.010750</td>\n",
       "      <td>0.060917</td>\n",
       "      <td>0.202069</td>\n",
       "      <td>-0.014005</td>\n",
       "      <td>-0.141027</td>\n",
       "      <td>-0.162854</td>\n",
       "      <td>-0.119673</td>\n",
       "      <td>-0.075209</td>\n",
       "    </tr>\n",
       "    <tr>\n",
       "      <th>Apathy</th>\n",
       "      <td>0.324644</td>\n",
       "      <td>-0.087146</td>\n",
       "      <td>1.000000</td>\n",
       "      <td>0.002106</td>\n",
       "      <td>0.107747</td>\n",
       "      <td>-0.064405</td>\n",
       "      <td>0.145132</td>\n",
       "      <td>-0.031882</td>\n",
       "      <td>0.107747</td>\n",
       "      <td>0.026718</td>\n",
       "      <td>-0.182515</td>\n",
       "      <td>NaN</td>\n",
       "      <td>-0.003923</td>\n",
       "      <td>-0.071669</td>\n",
       "      <td>-0.193687</td>\n",
       "      <td>0.008407</td>\n",
       "      <td>0.157259</td>\n",
       "      <td>0.178003</td>\n",
       "      <td>0.812859</td>\n",
       "      <td>0.093710</td>\n",
       "    </tr>\n",
       "    <tr>\n",
       "      <th>Appetite</th>\n",
       "      <td>-0.006947</td>\n",
       "      <td>0.028458</td>\n",
       "      <td>0.002106</td>\n",
       "      <td>1.000000</td>\n",
       "      <td>-0.015122</td>\n",
       "      <td>-0.028787</td>\n",
       "      <td>-0.009600</td>\n",
       "      <td>-0.007046</td>\n",
       "      <td>-0.015122</td>\n",
       "      <td>-0.002647</td>\n",
       "      <td>0.023354</td>\n",
       "      <td>NaN</td>\n",
       "      <td>0.004908</td>\n",
       "      <td>-0.023503</td>\n",
       "      <td>0.020573</td>\n",
       "      <td>0.016495</td>\n",
       "      <td>0.006104</td>\n",
       "      <td>0.011619</td>\n",
       "      <td>-0.001190</td>\n",
       "      <td>0.005644</td>\n",
       "    </tr>\n",
       "    <tr>\n",
       "      <th>Concentration</th>\n",
       "      <td>0.329591</td>\n",
       "      <td>-0.103457</td>\n",
       "      <td>0.107747</td>\n",
       "      <td>-0.015122</td>\n",
       "      <td>1.000000</td>\n",
       "      <td>-0.038601</td>\n",
       "      <td>0.115106</td>\n",
       "      <td>-0.043574</td>\n",
       "      <td>1.000000</td>\n",
       "      <td>0.038687</td>\n",
       "      <td>-0.167951</td>\n",
       "      <td>NaN</td>\n",
       "      <td>-0.006648</td>\n",
       "      <td>-0.071971</td>\n",
       "      <td>-0.190818</td>\n",
       "      <td>-0.030384</td>\n",
       "      <td>0.181396</td>\n",
       "      <td>0.184090</td>\n",
       "      <td>0.127945</td>\n",
       "      <td>0.072692</td>\n",
       "    </tr>\n",
       "    <tr>\n",
       "      <th>Content</th>\n",
       "      <td>-0.134793</td>\n",
       "      <td>0.047178</td>\n",
       "      <td>-0.064405</td>\n",
       "      <td>-0.028787</td>\n",
       "      <td>-0.038601</td>\n",
       "      <td>1.000000</td>\n",
       "      <td>-0.062656</td>\n",
       "      <td>0.030003</td>\n",
       "      <td>-0.038601</td>\n",
       "      <td>-0.031946</td>\n",
       "      <td>0.072818</td>\n",
       "      <td>NaN</td>\n",
       "      <td>-0.012404</td>\n",
       "      <td>0.002365</td>\n",
       "      <td>0.074279</td>\n",
       "      <td>-0.014943</td>\n",
       "      <td>-0.060263</td>\n",
       "      <td>-0.075790</td>\n",
       "      <td>-0.073211</td>\n",
       "      <td>-0.054486</td>\n",
       "    </tr>\n",
       "    <tr>\n",
       "      <th>Delusion</th>\n",
       "      <td>0.408914</td>\n",
       "      <td>-0.137018</td>\n",
       "      <td>0.145132</td>\n",
       "      <td>-0.009600</td>\n",
       "      <td>0.115106</td>\n",
       "      <td>-0.062656</td>\n",
       "      <td>1.000000</td>\n",
       "      <td>-0.045544</td>\n",
       "      <td>0.115106</td>\n",
       "      <td>0.446102</td>\n",
       "      <td>-0.232700</td>\n",
       "      <td>NaN</td>\n",
       "      <td>-0.012481</td>\n",
       "      <td>-0.101670</td>\n",
       "      <td>-0.246398</td>\n",
       "      <td>0.019044</td>\n",
       "      <td>0.185466</td>\n",
       "      <td>0.215114</td>\n",
       "      <td>0.172897</td>\n",
       "      <td>0.108807</td>\n",
       "    </tr>\n",
       "    <tr>\n",
       "      <th>Dep_Mood</th>\n",
       "      <td>-0.079799</td>\n",
       "      <td>-0.001519</td>\n",
       "      <td>-0.031882</td>\n",
       "      <td>-0.007046</td>\n",
       "      <td>-0.043574</td>\n",
       "      <td>0.030003</td>\n",
       "      <td>-0.045544</td>\n",
       "      <td>1.000000</td>\n",
       "      <td>-0.043574</td>\n",
       "      <td>-0.011256</td>\n",
       "      <td>0.022233</td>\n",
       "      <td>NaN</td>\n",
       "      <td>-0.404670</td>\n",
       "      <td>0.018221</td>\n",
       "      <td>0.011648</td>\n",
       "      <td>0.011746</td>\n",
       "      <td>-0.058349</td>\n",
       "      <td>-0.064671</td>\n",
       "      <td>-0.038897</td>\n",
       "      <td>-0.042382</td>\n",
       "    </tr>\n",
       "    <tr>\n",
       "      <th>Focus</th>\n",
       "      <td>0.329591</td>\n",
       "      <td>-0.103457</td>\n",
       "      <td>0.107747</td>\n",
       "      <td>-0.015122</td>\n",
       "      <td>1.000000</td>\n",
       "      <td>-0.038601</td>\n",
       "      <td>0.115106</td>\n",
       "      <td>-0.043574</td>\n",
       "      <td>1.000000</td>\n",
       "      <td>0.038687</td>\n",
       "      <td>-0.167951</td>\n",
       "      <td>NaN</td>\n",
       "      <td>-0.006648</td>\n",
       "      <td>-0.071971</td>\n",
       "      <td>-0.190818</td>\n",
       "      <td>-0.030384</td>\n",
       "      <td>0.181396</td>\n",
       "      <td>0.184090</td>\n",
       "      <td>0.127945</td>\n",
       "      <td>0.072692</td>\n",
       "    </tr>\n",
       "    <tr>\n",
       "      <th>Hallucination</th>\n",
       "      <td>0.170579</td>\n",
       "      <td>-0.053082</td>\n",
       "      <td>0.026718</td>\n",
       "      <td>-0.002647</td>\n",
       "      <td>0.038687</td>\n",
       "      <td>-0.031946</td>\n",
       "      <td>0.446102</td>\n",
       "      <td>-0.011256</td>\n",
       "      <td>0.038687</td>\n",
       "      <td>1.000000</td>\n",
       "      <td>-0.099086</td>\n",
       "      <td>NaN</td>\n",
       "      <td>0.007514</td>\n",
       "      <td>-0.061639</td>\n",
       "      <td>-0.110613</td>\n",
       "      <td>0.015907</td>\n",
       "      <td>0.095685</td>\n",
       "      <td>0.110464</td>\n",
       "      <td>0.048999</td>\n",
       "      <td>0.028669</td>\n",
       "    </tr>\n",
       "    <tr>\n",
       "      <th>Intrusive_Thoughts</th>\n",
       "      <td>-0.550806</td>\n",
       "      <td>0.195297</td>\n",
       "      <td>-0.182515</td>\n",
       "      <td>0.023354</td>\n",
       "      <td>-0.167951</td>\n",
       "      <td>0.072818</td>\n",
       "      <td>-0.232700</td>\n",
       "      <td>0.022233</td>\n",
       "      <td>-0.167951</td>\n",
       "      <td>-0.099086</td>\n",
       "      <td>1.000000</td>\n",
       "      <td>NaN</td>\n",
       "      <td>0.020195</td>\n",
       "      <td>0.160036</td>\n",
       "      <td>0.907793</td>\n",
       "      <td>-0.010683</td>\n",
       "      <td>-0.105531</td>\n",
       "      <td>-0.123461</td>\n",
       "      <td>-0.221437</td>\n",
       "      <td>-0.080340</td>\n",
       "    </tr>\n",
       "    <tr>\n",
       "      <th>Participant</th>\n",
       "      <td>NaN</td>\n",
       "      <td>NaN</td>\n",
       "      <td>NaN</td>\n",
       "      <td>NaN</td>\n",
       "      <td>NaN</td>\n",
       "      <td>NaN</td>\n",
       "      <td>NaN</td>\n",
       "      <td>NaN</td>\n",
       "      <td>NaN</td>\n",
       "      <td>NaN</td>\n",
       "      <td>NaN</td>\n",
       "      <td>NaN</td>\n",
       "      <td>NaN</td>\n",
       "      <td>NaN</td>\n",
       "      <td>NaN</td>\n",
       "      <td>NaN</td>\n",
       "      <td>NaN</td>\n",
       "      <td>NaN</td>\n",
       "      <td>NaN</td>\n",
       "      <td>NaN</td>\n",
       "    </tr>\n",
       "    <tr>\n",
       "      <th>Passive</th>\n",
       "      <td>-0.017115</td>\n",
       "      <td>0.010750</td>\n",
       "      <td>-0.003923</td>\n",
       "      <td>0.004908</td>\n",
       "      <td>-0.006648</td>\n",
       "      <td>-0.012404</td>\n",
       "      <td>-0.012481</td>\n",
       "      <td>-0.404670</td>\n",
       "      <td>-0.006648</td>\n",
       "      <td>0.007514</td>\n",
       "      <td>0.020195</td>\n",
       "      <td>NaN</td>\n",
       "      <td>1.000000</td>\n",
       "      <td>0.022604</td>\n",
       "      <td>0.028510</td>\n",
       "      <td>0.015243</td>\n",
       "      <td>-0.030859</td>\n",
       "      <td>-0.018675</td>\n",
       "      <td>-0.005470</td>\n",
       "      <td>0.008342</td>\n",
       "    </tr>\n",
       "    <tr>\n",
       "      <th>Psychomotor</th>\n",
       "      <td>-0.230957</td>\n",
       "      <td>0.060917</td>\n",
       "      <td>-0.071669</td>\n",
       "      <td>-0.023503</td>\n",
       "      <td>-0.071971</td>\n",
       "      <td>0.002365</td>\n",
       "      <td>-0.101670</td>\n",
       "      <td>0.018221</td>\n",
       "      <td>-0.071971</td>\n",
       "      <td>-0.061639</td>\n",
       "      <td>0.160036</td>\n",
       "      <td>NaN</td>\n",
       "      <td>0.022604</td>\n",
       "      <td>1.000000</td>\n",
       "      <td>0.166637</td>\n",
       "      <td>-0.028548</td>\n",
       "      <td>-0.105286</td>\n",
       "      <td>-0.115610</td>\n",
       "      <td>-0.091341</td>\n",
       "      <td>-0.046948</td>\n",
       "    </tr>\n",
       "    <tr>\n",
       "      <th>Rumination</th>\n",
       "      <td>-0.596503</td>\n",
       "      <td>0.202069</td>\n",
       "      <td>-0.193687</td>\n",
       "      <td>0.020573</td>\n",
       "      <td>-0.190818</td>\n",
       "      <td>0.074279</td>\n",
       "      <td>-0.246398</td>\n",
       "      <td>0.011648</td>\n",
       "      <td>-0.190818</td>\n",
       "      <td>-0.110613</td>\n",
       "      <td>0.907793</td>\n",
       "      <td>NaN</td>\n",
       "      <td>0.028510</td>\n",
       "      <td>0.166637</td>\n",
       "      <td>1.000000</td>\n",
       "      <td>-0.015916</td>\n",
       "      <td>-0.103619</td>\n",
       "      <td>-0.120006</td>\n",
       "      <td>-0.241222</td>\n",
       "      <td>-0.072750</td>\n",
       "    </tr>\n",
       "    <tr>\n",
       "      <th>Sleep</th>\n",
       "      <td>0.025147</td>\n",
       "      <td>-0.014005</td>\n",
       "      <td>0.008407</td>\n",
       "      <td>0.016495</td>\n",
       "      <td>-0.030384</td>\n",
       "      <td>-0.014943</td>\n",
       "      <td>0.019044</td>\n",
       "      <td>0.011746</td>\n",
       "      <td>-0.030384</td>\n",
       "      <td>0.015907</td>\n",
       "      <td>-0.010683</td>\n",
       "      <td>NaN</td>\n",
       "      <td>0.015243</td>\n",
       "      <td>-0.028548</td>\n",
       "      <td>-0.015916</td>\n",
       "      <td>1.000000</td>\n",
       "      <td>-0.016342</td>\n",
       "      <td>-0.011030</td>\n",
       "      <td>0.012168</td>\n",
       "      <td>-0.003911</td>\n",
       "    </tr>\n",
       "    <tr>\n",
       "      <th>Stress</th>\n",
       "      <td>0.458557</td>\n",
       "      <td>-0.141027</td>\n",
       "      <td>0.157259</td>\n",
       "      <td>0.006104</td>\n",
       "      <td>0.181396</td>\n",
       "      <td>-0.060263</td>\n",
       "      <td>0.185466</td>\n",
       "      <td>-0.058349</td>\n",
       "      <td>0.181396</td>\n",
       "      <td>0.095685</td>\n",
       "      <td>-0.105531</td>\n",
       "      <td>NaN</td>\n",
       "      <td>-0.030859</td>\n",
       "      <td>-0.105286</td>\n",
       "      <td>-0.103619</td>\n",
       "      <td>-0.016342</td>\n",
       "      <td>1.000000</td>\n",
       "      <td>0.889383</td>\n",
       "      <td>0.183224</td>\n",
       "      <td>0.167794</td>\n",
       "    </tr>\n",
       "    <tr>\n",
       "      <th>Tension</th>\n",
       "      <td>0.516142</td>\n",
       "      <td>-0.162854</td>\n",
       "      <td>0.178003</td>\n",
       "      <td>0.011619</td>\n",
       "      <td>0.184090</td>\n",
       "      <td>-0.075790</td>\n",
       "      <td>0.215114</td>\n",
       "      <td>-0.064671</td>\n",
       "      <td>0.184090</td>\n",
       "      <td>0.110464</td>\n",
       "      <td>-0.123461</td>\n",
       "      <td>NaN</td>\n",
       "      <td>-0.018675</td>\n",
       "      <td>-0.115610</td>\n",
       "      <td>-0.120006</td>\n",
       "      <td>-0.011030</td>\n",
       "      <td>0.889383</td>\n",
       "      <td>1.000000</td>\n",
       "      <td>0.212458</td>\n",
       "      <td>0.201853</td>\n",
       "    </tr>\n",
       "    <tr>\n",
       "      <th>Unusual_Thought</th>\n",
       "      <td>0.394249</td>\n",
       "      <td>-0.119673</td>\n",
       "      <td>0.812859</td>\n",
       "      <td>-0.001190</td>\n",
       "      <td>0.127945</td>\n",
       "      <td>-0.073211</td>\n",
       "      <td>0.172897</td>\n",
       "      <td>-0.038897</td>\n",
       "      <td>0.127945</td>\n",
       "      <td>0.048999</td>\n",
       "      <td>-0.221437</td>\n",
       "      <td>NaN</td>\n",
       "      <td>-0.005470</td>\n",
       "      <td>-0.091341</td>\n",
       "      <td>-0.241222</td>\n",
       "      <td>0.012168</td>\n",
       "      <td>0.183224</td>\n",
       "      <td>0.212458</td>\n",
       "      <td>1.000000</td>\n",
       "      <td>0.109089</td>\n",
       "    </tr>\n",
       "    <tr>\n",
       "      <th>Withdrawal</th>\n",
       "      <td>0.219410</td>\n",
       "      <td>-0.075209</td>\n",
       "      <td>0.093710</td>\n",
       "      <td>0.005644</td>\n",
       "      <td>0.072692</td>\n",
       "      <td>-0.054486</td>\n",
       "      <td>0.108807</td>\n",
       "      <td>-0.042382</td>\n",
       "      <td>0.072692</td>\n",
       "      <td>0.028669</td>\n",
       "      <td>-0.080340</td>\n",
       "      <td>NaN</td>\n",
       "      <td>0.008342</td>\n",
       "      <td>-0.046948</td>\n",
       "      <td>-0.072750</td>\n",
       "      <td>-0.003911</td>\n",
       "      <td>0.167794</td>\n",
       "      <td>0.201853</td>\n",
       "      <td>0.109089</td>\n",
       "      <td>1.000000</td>\n",
       "    </tr>\n",
       "  </tbody>\n",
       "</table>\n",
       "</div>"
      ],
      "text/plain": [
       "                    Diagnosis  Anhedonia    Apathy  Appetite  Concentration  \\\n",
       "Diagnosis            1.000000  -0.330155  0.324644 -0.006947       0.329591   \n",
       "Anhedonia           -0.330155   1.000000 -0.087146  0.028458      -0.103457   \n",
       "Apathy               0.324644  -0.087146  1.000000  0.002106       0.107747   \n",
       "Appetite            -0.006947   0.028458  0.002106  1.000000      -0.015122   \n",
       "Concentration        0.329591  -0.103457  0.107747 -0.015122       1.000000   \n",
       "Content             -0.134793   0.047178 -0.064405 -0.028787      -0.038601   \n",
       "Delusion             0.408914  -0.137018  0.145132 -0.009600       0.115106   \n",
       "Dep_Mood            -0.079799  -0.001519 -0.031882 -0.007046      -0.043574   \n",
       "Focus                0.329591  -0.103457  0.107747 -0.015122       1.000000   \n",
       "Hallucination        0.170579  -0.053082  0.026718 -0.002647       0.038687   \n",
       "Intrusive_Thoughts  -0.550806   0.195297 -0.182515  0.023354      -0.167951   \n",
       "Participant               NaN        NaN       NaN       NaN            NaN   \n",
       "Passive             -0.017115   0.010750 -0.003923  0.004908      -0.006648   \n",
       "Psychomotor         -0.230957   0.060917 -0.071669 -0.023503      -0.071971   \n",
       "Rumination          -0.596503   0.202069 -0.193687  0.020573      -0.190818   \n",
       "Sleep                0.025147  -0.014005  0.008407  0.016495      -0.030384   \n",
       "Stress               0.458557  -0.141027  0.157259  0.006104       0.181396   \n",
       "Tension              0.516142  -0.162854  0.178003  0.011619       0.184090   \n",
       "Unusual_Thought      0.394249  -0.119673  0.812859 -0.001190       0.127945   \n",
       "Withdrawal           0.219410  -0.075209  0.093710  0.005644       0.072692   \n",
       "\n",
       "                     Content  Delusion  Dep_Mood     Focus  Hallucination  \\\n",
       "Diagnosis          -0.134793  0.408914 -0.079799  0.329591       0.170579   \n",
       "Anhedonia           0.047178 -0.137018 -0.001519 -0.103457      -0.053082   \n",
       "Apathy             -0.064405  0.145132 -0.031882  0.107747       0.026718   \n",
       "Appetite           -0.028787 -0.009600 -0.007046 -0.015122      -0.002647   \n",
       "Concentration      -0.038601  0.115106 -0.043574  1.000000       0.038687   \n",
       "Content             1.000000 -0.062656  0.030003 -0.038601      -0.031946   \n",
       "Delusion           -0.062656  1.000000 -0.045544  0.115106       0.446102   \n",
       "Dep_Mood            0.030003 -0.045544  1.000000 -0.043574      -0.011256   \n",
       "Focus              -0.038601  0.115106 -0.043574  1.000000       0.038687   \n",
       "Hallucination      -0.031946  0.446102 -0.011256  0.038687       1.000000   \n",
       "Intrusive_Thoughts  0.072818 -0.232700  0.022233 -0.167951      -0.099086   \n",
       "Participant              NaN       NaN       NaN       NaN            NaN   \n",
       "Passive            -0.012404 -0.012481 -0.404670 -0.006648       0.007514   \n",
       "Psychomotor         0.002365 -0.101670  0.018221 -0.071971      -0.061639   \n",
       "Rumination          0.074279 -0.246398  0.011648 -0.190818      -0.110613   \n",
       "Sleep              -0.014943  0.019044  0.011746 -0.030384       0.015907   \n",
       "Stress             -0.060263  0.185466 -0.058349  0.181396       0.095685   \n",
       "Tension            -0.075790  0.215114 -0.064671  0.184090       0.110464   \n",
       "Unusual_Thought    -0.073211  0.172897 -0.038897  0.127945       0.048999   \n",
       "Withdrawal         -0.054486  0.108807 -0.042382  0.072692       0.028669   \n",
       "\n",
       "                    Intrusive_Thoughts  Participant   Passive  Psychomotor  \\\n",
       "Diagnosis                    -0.550806          NaN -0.017115    -0.230957   \n",
       "Anhedonia                     0.195297          NaN  0.010750     0.060917   \n",
       "Apathy                       -0.182515          NaN -0.003923    -0.071669   \n",
       "Appetite                      0.023354          NaN  0.004908    -0.023503   \n",
       "Concentration                -0.167951          NaN -0.006648    -0.071971   \n",
       "Content                       0.072818          NaN -0.012404     0.002365   \n",
       "Delusion                     -0.232700          NaN -0.012481    -0.101670   \n",
       "Dep_Mood                      0.022233          NaN -0.404670     0.018221   \n",
       "Focus                        -0.167951          NaN -0.006648    -0.071971   \n",
       "Hallucination                -0.099086          NaN  0.007514    -0.061639   \n",
       "Intrusive_Thoughts            1.000000          NaN  0.020195     0.160036   \n",
       "Participant                        NaN          NaN       NaN          NaN   \n",
       "Passive                       0.020195          NaN  1.000000     0.022604   \n",
       "Psychomotor                   0.160036          NaN  0.022604     1.000000   \n",
       "Rumination                    0.907793          NaN  0.028510     0.166637   \n",
       "Sleep                        -0.010683          NaN  0.015243    -0.028548   \n",
       "Stress                       -0.105531          NaN -0.030859    -0.105286   \n",
       "Tension                      -0.123461          NaN -0.018675    -0.115610   \n",
       "Unusual_Thought              -0.221437          NaN -0.005470    -0.091341   \n",
       "Withdrawal                   -0.080340          NaN  0.008342    -0.046948   \n",
       "\n",
       "                    Rumination     Sleep    Stress   Tension  Unusual_Thought  \\\n",
       "Diagnosis            -0.596503  0.025147  0.458557  0.516142         0.394249   \n",
       "Anhedonia             0.202069 -0.014005 -0.141027 -0.162854        -0.119673   \n",
       "Apathy               -0.193687  0.008407  0.157259  0.178003         0.812859   \n",
       "Appetite              0.020573  0.016495  0.006104  0.011619        -0.001190   \n",
       "Concentration        -0.190818 -0.030384  0.181396  0.184090         0.127945   \n",
       "Content               0.074279 -0.014943 -0.060263 -0.075790        -0.073211   \n",
       "Delusion             -0.246398  0.019044  0.185466  0.215114         0.172897   \n",
       "Dep_Mood              0.011648  0.011746 -0.058349 -0.064671        -0.038897   \n",
       "Focus                -0.190818 -0.030384  0.181396  0.184090         0.127945   \n",
       "Hallucination        -0.110613  0.015907  0.095685  0.110464         0.048999   \n",
       "Intrusive_Thoughts    0.907793 -0.010683 -0.105531 -0.123461        -0.221437   \n",
       "Participant                NaN       NaN       NaN       NaN              NaN   \n",
       "Passive               0.028510  0.015243 -0.030859 -0.018675        -0.005470   \n",
       "Psychomotor           0.166637 -0.028548 -0.105286 -0.115610        -0.091341   \n",
       "Rumination            1.000000 -0.015916 -0.103619 -0.120006        -0.241222   \n",
       "Sleep                -0.015916  1.000000 -0.016342 -0.011030         0.012168   \n",
       "Stress               -0.103619 -0.016342  1.000000  0.889383         0.183224   \n",
       "Tension              -0.120006 -0.011030  0.889383  1.000000         0.212458   \n",
       "Unusual_Thought      -0.241222  0.012168  0.183224  0.212458         1.000000   \n",
       "Withdrawal           -0.072750 -0.003911  0.167794  0.201853         0.109089   \n",
       "\n",
       "                    Withdrawal  \n",
       "Diagnosis             0.219410  \n",
       "Anhedonia            -0.075209  \n",
       "Apathy                0.093710  \n",
       "Appetite              0.005644  \n",
       "Concentration         0.072692  \n",
       "Content              -0.054486  \n",
       "Delusion              0.108807  \n",
       "Dep_Mood             -0.042382  \n",
       "Focus                 0.072692  \n",
       "Hallucination         0.028669  \n",
       "Intrusive_Thoughts   -0.080340  \n",
       "Participant                NaN  \n",
       "Passive               0.008342  \n",
       "Psychomotor          -0.046948  \n",
       "Rumination           -0.072750  \n",
       "Sleep                -0.003911  \n",
       "Stress                0.167794  \n",
       "Tension               0.201853  \n",
       "Unusual_Thought       0.109089  \n",
       "Withdrawal            1.000000  "
      ]
     },
     "execution_count": 9,
     "metadata": {},
     "output_type": "execute_result"
    }
   ],
   "source": [
    "# Correlation of data\n",
    "data.corr()"
   ]
  },
  {
   "cell_type": "code",
   "execution_count": 10,
   "id": "55379aa1",
   "metadata": {},
   "outputs": [
    {
     "data": {
      "text/plain": [
       "array([1], dtype=int64)"
      ]
     },
     "execution_count": 10,
     "metadata": {},
     "output_type": "execute_result"
    }
   ],
   "source": [
    "data[\"Participant\"].unique()"
   ]
  },
  {
   "cell_type": "code",
   "execution_count": 11,
   "id": "694bba8e",
   "metadata": {},
   "outputs": [],
   "source": [
    "# Participant column have same value in each observation so we can remove that column\n",
    "data.drop(\"Participant\", axis=\"columns\", inplace=True)"
   ]
  },
  {
   "cell_type": "code",
   "execution_count": 12,
   "id": "fc7d2727",
   "metadata": {},
   "outputs": [
    {
     "data": {
      "text/plain": [
       "<AxesSubplot:>"
      ]
     },
     "execution_count": 12,
     "metadata": {},
     "output_type": "execute_result"
    },
    {
     "data": {
      "image/png": "[encoded data removed]",
      "text/plain": [
       "<Figure size 432x288 with 2 Axes>"
      ]
     },
     "metadata": {
      "needs_background": "light"
     },
     "output_type": "display_data"
    }
   ],
   "source": [
    "# correlation heatmap of features excluding target variable diagnosis\n",
    "sns.heatmap(data.drop(\"Diagnosis\", axis=\"columns\").corr(), cmap=\"Blues\")"
   ]
  },
  {
   "cell_type": "markdown",
   "id": "c7b1f3f6",
   "metadata": {},
   "source": [
    "Some Features Are Highly Correlated With Each Other Like:\n",
    "Stress & Sleep, Focus & Concentration, Rumination & Intrusive_Thoughts, Apathy & Unusual_Thought\n",
    "These can affect our model prediction so we will remove one from each"
   ]
  },
  {
   "cell_type": "code",
   "execution_count": 13,
   "id": "e7b8bd16",
   "metadata": {},
   "outputs": [],
   "source": [
    "data.drop(columns=[\"Unusual_Thought\",\"Focus\",\"Intrusive_Thoughts\",\"Sleep\"], inplace=True)"
   ]
  },
  {
   "cell_type": "code",
   "execution_count": 14,
   "id": "c8edefbc",
   "metadata": {},
   "outputs": [
    {
     "data": {
      "text/plain": [
       "<AxesSubplot:>"
      ]
     },
     "execution_count": 14,
     "metadata": {},
     "output_type": "execute_result"
    },
    {
     "data": {
      "image/png": "[encoded data removed]",
      "text/plain": [
       "<Figure size 432x288 with 1 Axes>"
      ]
     },
     "metadata": {
      "needs_background": "light"
     },
     "output_type": "display_data"
    }
   ],
   "source": [
    "# Distribution of data between two target categories\n",
    "data[\"Diagnosis\"].value_counts(normalize=True).plot(kind=\"bar\")"
   ]
  },
  {
   "cell_type": "code",
   "execution_count": 15,
   "id": "3ca253a3",
   "metadata": {},
   "outputs": [
    {
     "data": {
      "text/plain": [
       "<AxesSubplot:ylabel='Race'>"
      ]
     },
     "execution_count": 15,
     "metadata": {},
     "output_type": "execute_result"
    },
    {
     "data": {
      "image/png": "[encoded data removed]",
      "text/plain": [
       "<Figure size 432x288 with 1 Axes>"
      ]
     },
     "metadata": {
      "needs_background": "light"
     },
     "output_type": "display_data"
    }
   ],
   "source": [
    "race_pivot = pd.pivot_table(data, index=\"Race\", values=\"Diagnosis\", aggfunc=np.mean).sort_values(by=\"Diagnosis\")\n",
    "race_pivot.plot(kind=\"barh\", xlabel=\"Race\")"
   ]
  },
  {
   "cell_type": "code",
   "execution_count": 16,
   "id": "eb538696",
   "metadata": {},
   "outputs": [
    {
     "data": {
      "text/plain": [
       "<AxesSubplot:ylabel='Gender'>"
      ]
     },
     "execution_count": 16,
     "metadata": {},
     "output_type": "execute_result"
    },
    {
     "data": {
      "image/png": "[encoded data removed]",
      "text/plain": [
       "<Figure size 432x288 with 1 Axes>"
      ]
     },
     "metadata": {
      "needs_background": "light"
     },
     "output_type": "display_data"
    }
   ],
   "source": [
    "gender_pivot = pd.pivot_table(data, index=\"Sex\", values=\"Diagnosis\", aggfunc=np.mean).sort_values(by=\"Diagnosis\")\n",
    "gender_pivot.plot(kind=\"barh\", xlabel=\"Gender\")"
   ]
  },
  {
   "cell_type": "code",
   "execution_count": 17,
   "id": "6792bdda",
   "metadata": {},
   "outputs": [
    {
     "data": {
      "text/plain": [
       "<AxesSubplot:ylabel='Housing'>"
      ]
     },
     "execution_count": 17,
     "metadata": {},
     "output_type": "execute_result"
    },
    {
     "data": {
      "image/png": "[encoded data removed]",
      "text/plain": [
       "<Figure size 432x288 with 1 Axes>"
      ]
     },
     "metadata": {
      "needs_background": "light"
     },
     "output_type": "display_data"
    }
   ],
   "source": [
    "housing_pivot = pd.pivot_table(data, index=\"Housing\", values=\"Diagnosis\", aggfunc=np.mean).sort_values(by=\"Diagnosis\")\n",
    "housing_pivot.plot(kind=\"barh\", xlabel=\"Housing\")"
   ]
  },
  {
   "cell_type": "code",
   "execution_count": 18,
   "id": "d2d2cfb8",
   "metadata": {},
   "outputs": [
    {
     "data": {
      "text/plain": [
       "<AxesSubplot:ylabel='Delay'>"
      ]
     },
     "execution_count": 18,
     "metadata": {},
     "output_type": "execute_result"
    },
    {
     "data": {
      "image/png": "[encoded data removed]",
      "text/plain": [
       "<Figure size 432x288 with 1 Axes>"
      ]
     },
     "metadata": {
      "needs_background": "light"
     },
     "output_type": "display_data"
    }
   ],
   "source": [
    "delay_pivot = pd.pivot_table(data, index=\"Delay\", values=\"Diagnosis\", aggfunc=np.mean).sort_values(by=\"Diagnosis\")\n",
    "delay_pivot.plot(kind=\"barh\", xlabel=\"Delay\")"
   ]
  },
  {
   "cell_type": "markdown",
   "id": "66de21dc",
   "metadata": {},
   "source": [
    "## Classification"
   ]
  },
  {
   "cell_type": "markdown",
   "id": "7d8e405b",
   "metadata": {},
   "source": [
    "classifying cases of our schizophrenia-like \n",
    "illness (Diagnosis=1) from controls (Diagnosis=0) or predicting one of the numerical features using \n",
    "regression techniques"
   ]
  },
  {
   "cell_type": "code",
   "execution_count": 19,
   "id": "84c61c04",
   "metadata": {},
   "outputs": [],
   "source": [
    "X = data.drop(columns=\"Diagnosis\")\n",
    "y = data[\"Diagnosis\"]"
   ]
  },
  {
   "cell_type": "code",
   "execution_count": 20,
   "id": "89b4f727",
   "metadata": {},
   "outputs": [],
   "source": [
    "X_train, X_test, y_train, y_test = train_test_split(X, y, test_size=0.2, random_state=42)"
   ]
  },
  {
   "cell_type": "code",
   "execution_count": 21,
   "id": "d8bc8405",
   "metadata": {},
   "outputs": [
    {
     "name": "stderr",
     "output_type": "stream",
     "text": [
      "C:\\Users\\DataWizard\\anaconda3\\lib\\site-packages\\sklearn\\linear_model\\_logistic.py:814: ConvergenceWarning: lbfgs failed to converge (status=1):\n",
      "STOP: TOTAL NO. of ITERATIONS REACHED LIMIT.\n",
      "\n",
      "Increase the number of iterations (max_iter) or scale the data as shown in:\n",
      "    https://scikit-learn.org/stable/modules/preprocessing.html\n",
      "Please also refer to the documentation for alternative solver options:\n",
      "    https://scikit-learn.org/stable/modules/linear_model.html#logistic-regression\n",
      "  n_iter_i = _check_optimize_result(\n"
     ]
    },
    {
     "data": {
      "text/plain": [
       "Pipeline(steps=[('ordinalencoder',\n",
       "                 OrdinalEncoder(cols=['Delay', 'Housing', 'Race', 'Sex'],\n",
       "                                mapping=[{'col': 'Delay',\n",
       "                                          'data_type': dtype('O'),\n",
       "                                          'mapping': Yes    1\n",
       "No     2\n",
       "NaN   -2\n",
       "dtype: int64},\n",
       "                                         {'col': 'Housing',\n",
       "                                          'data_type': dtype('O'),\n",
       "                                          'mapping': Stable      1\n",
       "Unstable    2\n",
       "NaN        -2\n",
       "dtype: int64},\n",
       "                                         {'col': 'Race',\n",
       "                                          'data_type': dtype('O'),\n",
       "                                          'mapping': Black       1\n",
       "Hispanic    2\n",
       "Asian       3\n",
       "White       4\n",
       "NaN        -2\n",
       "dtype: int64},\n",
       "                                         {'col': 'Sex', 'data_type': dtype('O'),\n",
       "                                          'mapping': Male      1\n",
       "Female    2\n",
       "NaN      -2\n",
       "dtype: int64}])),\n",
       "                ('simpleimputer', SimpleImputer()),\n",
       "                ('logisticregression', LogisticRegression(max_iter=2000))])"
      ]
     },
     "execution_count": 21,
     "metadata": {},
     "output_type": "execute_result"
    }
   ],
   "source": [
    "model = make_pipeline(OrdinalEncoder(), SimpleImputer(), LogisticRegression(max_iter=2000))\n",
    "model.fit(X_train, y_train)"
   ]
  },
  {
   "cell_type": "code",
   "execution_count": 22,
   "id": "c0350b3d",
   "metadata": {},
   "outputs": [],
   "source": [
    "# Prediction\n",
    "train_pred = model.predict(X_train)\n",
    "test_pred = model.predict(X_test)"
   ]
  },
  {
   "cell_type": "code",
   "execution_count": 23,
   "id": "a0ab314c",
   "metadata": {},
   "outputs": [
    {
     "name": "stdout",
     "output_type": "stream",
     "text": [
      "Train Accuracy: 0.91425\n",
      "Test Accuracy: 0.921\n"
     ]
    }
   ],
   "source": [
    "# Accuracy Score\n",
    "print(f\"Train Accuracy: {accuracy_score(y_train, train_pred)}\")\n",
    "print(f\"Test Accuracy: {accuracy_score(y_test, test_pred)}\")"
   ]
  },
  {
   "cell_type": "code",
   "execution_count": 24,
   "id": "bbcb584a",
   "metadata": {},
   "outputs": [
    {
     "name": "stdout",
     "output_type": "stream",
     "text": [
      "              precision    recall  f1-score   support\n",
      "\n",
      "           0       0.91      0.92      0.91      1959\n",
      "           1       0.92      0.91      0.92      2041\n",
      "\n",
      "    accuracy                           0.91      4000\n",
      "   macro avg       0.91      0.91      0.91      4000\n",
      "weighted avg       0.91      0.91      0.91      4000\n",
      "\n"
     ]
    }
   ],
   "source": [
    "# Classification Report of Train Data\n",
    "print(classification_report(y_train, train_pred))"
   ]
  },
  {
   "cell_type": "code",
   "execution_count": 25,
   "id": "550cfc96",
   "metadata": {},
   "outputs": [
    {
     "name": "stdout",
     "output_type": "stream",
     "text": [
      "              precision    recall  f1-score   support\n",
      "\n",
      "           0       0.91      0.94      0.92       512\n",
      "           1       0.93      0.91      0.92       488\n",
      "\n",
      "    accuracy                           0.92      1000\n",
      "   macro avg       0.92      0.92      0.92      1000\n",
      "weighted avg       0.92      0.92      0.92      1000\n",
      "\n"
     ]
    }
   ],
   "source": [
    "# Classification Report of Test Data\n",
    "print(classification_report(y_test, test_pred))"
   ]
  },
  {
   "cell_type": "markdown",
   "id": "4bfdf870",
   "metadata": {},
   "source": [
    "## Linear Regression"
   ]
  },
  {
   "cell_type": "code",
   "execution_count": 54,
   "id": "736abe5f",
   "metadata": {},
   "outputs": [],
   "source": [
    "import math\n",
    "from sklearn.preprocessing import MinMaxScaler\n",
    "from sklearn.model_selection import train_test_split\n",
    "from sklearn.linear_model import LinearRegression\n",
    "from sklearn.metrics import r2_score\n",
    "from sklearn.metrics import mean_squared_error"
   ]
  },
  {
   "cell_type": "code",
   "execution_count": 58,
   "id": "16b50b45",
   "metadata": {},
   "outputs": [],
   "source": [
    "y_pred = model.predict(X_test)"
   ]
  },
  {
   "cell_type": "code",
   "execution_count": 59,
   "id": "33198487",
   "metadata": {},
   "outputs": [
    {
     "data": {
      "text/plain": [
       "0.2810693864511039"
      ]
     },
     "execution_count": 59,
     "metadata": {},
     "output_type": "execute_result"
    }
   ],
   "source": [
    "math.sqrt(mean_squared_error(y_test,y_pred))"
   ]
  },
  {
   "cell_type": "code",
   "execution_count": 60,
   "id": "5e2e526d",
   "metadata": {},
   "outputs": [
    {
     "data": {
      "text/plain": [
       "0.6838178790983607"
      ]
     },
     "execution_count": 60,
     "metadata": {},
     "output_type": "execute_result"
    }
   ],
   "source": [
    "r2_score(y_test,y_pred)"
   ]
  },
  {
   "cell_type": "markdown",
   "id": "313698ad",
   "metadata": {},
   "source": [
    "## Clustering Kmeans"
   ]
  },
  {
   "cell_type": "code",
   "execution_count": 26,
   "id": "3898db79",
   "metadata": {},
   "outputs": [],
   "source": [
    "from sklearn.cluster import KMeans\n",
    "from sklearn.preprocessing import MinMaxScaler"
   ]
  },
  {
   "cell_type": "code",
   "execution_count": 27,
   "id": "9758fc83",
   "metadata": {},
   "outputs": [
    {
     "data": {
      "text/plain": [
       "<matplotlib.collections.PathCollection at 0x27d0c9f17f0>"
      ]
     },
     "execution_count": 27,
     "metadata": {},
     "output_type": "execute_result"
    },
    {
     "data": {
      "image/png": "[encoded data removed]",
      "text/plain": [
       "<Figure size 432x288 with 1 Axes>"
      ]
     },
     "metadata": {
      "needs_background": "light"
     },
     "output_type": "display_data"
    }
   ],
   "source": [
    "plt.scatter(data['Stress'],data['Tension'])"
   ]
  },
  {
   "cell_type": "code",
   "execution_count": 28,
   "id": "d0102d2c",
   "metadata": {},
   "outputs": [
    {
     "data": {
      "text/plain": [
       "KMeans(n_clusters=3)"
      ]
     },
     "execution_count": 28,
     "metadata": {},
     "output_type": "execute_result"
    }
   ],
   "source": [
    "km = KMeans(n_clusters=3)\n",
    "km"
   ]
  },
  {
   "cell_type": "code",
   "execution_count": 29,
   "id": "e8c67c31",
   "metadata": {},
   "outputs": [
    {
     "data": {
      "text/plain": [
       "array([1, 0, 1, ..., 1, 1, 2])"
      ]
     },
     "execution_count": 29,
     "metadata": {},
     "output_type": "execute_result"
    }
   ],
   "source": [
    "y_predicted = km.fit_predict(data[['Diagnosis','Stress','Tension']])\n",
    "y_predicted"
   ]
  },
  {
   "cell_type": "code",
   "execution_count": 30,
   "id": "b2a220f7",
   "metadata": {},
   "outputs": [
    {
     "data": {
      "text/html": [
       "<div>\n",
       "<style scoped>\n",
       "    .dataframe tbody tr th:only-of-type {\n",
       "        vertical-align: middle;\n",
       "    }\n",
       "\n",
       "    .dataframe tbody tr th {\n",
       "        vertical-align: top;\n",
       "    }\n",
       "\n",
       "    .dataframe thead th {\n",
       "        text-align: right;\n",
       "    }\n",
       "</style>\n",
       "<table border=\"1\" class=\"dataframe\">\n",
       "  <thead>\n",
       "    <tr style=\"text-align: right;\">\n",
       "      <th></th>\n",
       "      <th>Diagnosis</th>\n",
       "      <th>Anhedonia</th>\n",
       "      <th>Apathy</th>\n",
       "      <th>Appetite</th>\n",
       "      <th>Concentration</th>\n",
       "      <th>Content</th>\n",
       "      <th>Delay</th>\n",
       "      <th>Delusion</th>\n",
       "      <th>Dep_Mood</th>\n",
       "      <th>Hallucination</th>\n",
       "      <th>Housing</th>\n",
       "      <th>Passive</th>\n",
       "      <th>Psychomotor</th>\n",
       "      <th>Race</th>\n",
       "      <th>Rumination</th>\n",
       "      <th>Sex</th>\n",
       "      <th>Stress</th>\n",
       "      <th>Tension</th>\n",
       "      <th>Withdrawal</th>\n",
       "      <th>cluster</th>\n",
       "    </tr>\n",
       "  </thead>\n",
       "  <tbody>\n",
       "    <tr>\n",
       "      <th>0</th>\n",
       "      <td>1</td>\n",
       "      <td>4.501446</td>\n",
       "      <td>3.056575</td>\n",
       "      <td>9.283891</td>\n",
       "      <td>8.305502</td>\n",
       "      <td>0.006142</td>\n",
       "      <td>Yes</td>\n",
       "      <td>1.170842</td>\n",
       "      <td>8.177884</td>\n",
       "      <td>12.831823</td>\n",
       "      <td>Stable</td>\n",
       "      <td>4.385417</td>\n",
       "      <td>3.854579</td>\n",
       "      <td>White</td>\n",
       "      <td>5.041432</td>\n",
       "      <td>Female</td>\n",
       "      <td>5.915492</td>\n",
       "      <td>6.371877</td>\n",
       "      <td>5.242819</td>\n",
       "      <td>1</td>\n",
       "    </tr>\n",
       "    <tr>\n",
       "      <th>1</th>\n",
       "      <td>0</td>\n",
       "      <td>5.432608</td>\n",
       "      <td>0.307721</td>\n",
       "      <td>25.809400</td>\n",
       "      <td>5.060206</td>\n",
       "      <td>0.062209</td>\n",
       "      <td>Yes</td>\n",
       "      <td>2.272548</td>\n",
       "      <td>11.162913</td>\n",
       "      <td>38.979963</td>\n",
       "      <td>Stable</td>\n",
       "      <td>2.491285</td>\n",
       "      <td>5.821110</td>\n",
       "      <td>White</td>\n",
       "      <td>4.656790</td>\n",
       "      <td>Male</td>\n",
       "      <td>4.008265</td>\n",
       "      <td>2.238665</td>\n",
       "      <td>3.797242</td>\n",
       "      <td>0</td>\n",
       "    </tr>\n",
       "    <tr>\n",
       "      <th>2</th>\n",
       "      <td>0</td>\n",
       "      <td>6.557500</td>\n",
       "      <td>-1.412208</td>\n",
       "      <td>24.842012</td>\n",
       "      <td>6.504229</td>\n",
       "      <td>0.071532</td>\n",
       "      <td>No</td>\n",
       "      <td>1.439095</td>\n",
       "      <td>5.887363</td>\n",
       "      <td>11.296530</td>\n",
       "      <td>Stable</td>\n",
       "      <td>-999.000000</td>\n",
       "      <td>7.893102</td>\n",
       "      <td>Black</td>\n",
       "      <td>7.290494</td>\n",
       "      <td>Female</td>\n",
       "      <td>7.177926</td>\n",
       "      <td>6.992499</td>\n",
       "      <td>4.421288</td>\n",
       "      <td>1</td>\n",
       "    </tr>\n",
       "    <tr>\n",
       "      <th>3</th>\n",
       "      <td>0</td>\n",
       "      <td>5.429568</td>\n",
       "      <td>1.686157</td>\n",
       "      <td>24.175853</td>\n",
       "      <td>6.994948</td>\n",
       "      <td>0.278345</td>\n",
       "      <td>No</td>\n",
       "      <td>1.380185</td>\n",
       "      <td>8.943851</td>\n",
       "      <td>4.237368</td>\n",
       "      <td>Stable</td>\n",
       "      <td>-999.000000</td>\n",
       "      <td>3.812874</td>\n",
       "      <td>White</td>\n",
       "      <td>6.759339</td>\n",
       "      <td>Female</td>\n",
       "      <td>2.866815</td>\n",
       "      <td>4.018286</td>\n",
       "      <td>2.299562</td>\n",
       "      <td>2</td>\n",
       "    </tr>\n",
       "    <tr>\n",
       "      <th>4</th>\n",
       "      <td>1</td>\n",
       "      <td>5.099846</td>\n",
       "      <td>-0.612506</td>\n",
       "      <td>45.808490</td>\n",
       "      <td>5.869212</td>\n",
       "      <td>0.004214</td>\n",
       "      <td>Yes</td>\n",
       "      <td>1.237976</td>\n",
       "      <td>6.741627</td>\n",
       "      <td>0.863636</td>\n",
       "      <td>Stable</td>\n",
       "      <td>7.999254</td>\n",
       "      <td>5.119658</td>\n",
       "      <td>Black</td>\n",
       "      <td>6.190019</td>\n",
       "      <td>Male</td>\n",
       "      <td>6.798220</td>\n",
       "      <td>5.063542</td>\n",
       "      <td>6.547707</td>\n",
       "      <td>1</td>\n",
       "    </tr>\n",
       "  </tbody>\n",
       "</table>\n",
       "</div>"
      ],
      "text/plain": [
       "   Diagnosis  Anhedonia    Apathy   Appetite  Concentration   Content Delay  \\\n",
       "0          1   4.501446  3.056575   9.283891       8.305502  0.006142   Yes   \n",
       "1          0   5.432608  0.307721  25.809400       5.060206  0.062209   Yes   \n",
       "2          0   6.557500 -1.412208  24.842012       6.504229  0.071532    No   \n",
       "3          0   5.429568  1.686157  24.175853       6.994948  0.278345    No   \n",
       "4          1   5.099846 -0.612506  45.808490       5.869212  0.004214   Yes   \n",
       "\n",
       "   Delusion   Dep_Mood  Hallucination Housing     Passive  Psychomotor   Race  \\\n",
       "0  1.170842   8.177884      12.831823  Stable    4.385417     3.854579  White   \n",
       "1  2.272548  11.162913      38.979963  Stable    2.491285     5.821110  White   \n",
       "2  1.439095   5.887363      11.296530  Stable -999.000000     7.893102  Black   \n",
       "3  1.380185   8.943851       4.237368  Stable -999.000000     3.812874  White   \n",
       "4  1.237976   6.741627       0.863636  Stable    7.999254     5.119658  Black   \n",
       "\n",
       "   Rumination     Sex    Stress   Tension  Withdrawal  cluster  \n",
       "0    5.041432  Female  5.915492  6.371877    5.242819        1  \n",
       "1    4.656790    Male  4.008265  2.238665    3.797242        0  \n",
       "2    7.290494  Female  7.177926  6.992499    4.421288        1  \n",
       "3    6.759339  Female  2.866815  4.018286    2.299562        2  \n",
       "4    6.190019    Male  6.798220  5.063542    6.547707        1  "
      ]
     },
     "execution_count": 30,
     "metadata": {},
     "output_type": "execute_result"
    }
   ],
   "source": [
    "data['cluster'] = y_predicted\n",
    "data.head()"
   ]
  },
  {
   "cell_type": "code",
   "execution_count": 31,
   "id": "54ae8e3e",
   "metadata": {},
   "outputs": [
    {
     "name": "stderr",
     "output_type": "stream",
     "text": [
      "No artists with labels found to put in legend.  Note that artists whose label start with an underscore are ignored when legend() is called with no argument.\n"
     ]
    },
    {
     "data": {
      "text/plain": [
       "<matplotlib.legend.Legend at 0x27d0ca71b80>"
      ]
     },
     "execution_count": 31,
     "metadata": {},
     "output_type": "execute_result"
    },
    {
     "data": {
      "image/png": "[encoded data removed]",
      "text/plain": [
       "<Figure size 432x288 with 1 Axes>"
      ]
     },
     "metadata": {
      "needs_background": "light"
     },
     "output_type": "display_data"
    }
   ],
   "source": [
    "data1 = data[data.cluster==0]\n",
    "data2 = data[data.cluster==1]\n",
    "data3 = data[data.cluster==2]\n",
    "plt.scatter(data1.Dep_Mood,data1['Tension'],color='green')\n",
    "plt.scatter(data2.Dep_Mood,data2['Tension'],color='red')\n",
    "plt.scatter(data3.Dep_Mood,data3['Tension'],color='black')\n",
    "\n",
    "\n",
    "plt.xlabel('Dep_Mood')\n",
    "plt.ylabel('Tension')\n",
    "plt.legend()"
   ]
  },
  {
   "cell_type": "code",
   "execution_count": 32,
   "id": "adbc93a0",
   "metadata": {},
   "outputs": [
    {
     "data": {
      "text/plain": [
       "array([[0.05736981, 1.83014574, 2.11125805],\n",
       "       [0.72497366, 7.06298755, 6.72294573],\n",
       "       [0.55256475, 4.62315059, 4.79996415]])"
      ]
     },
     "execution_count": 32,
     "metadata": {},
     "output_type": "execute_result"
    }
   ],
   "source": [
    "km.cluster_centers_"
   ]
  },
  {
   "cell_type": "code",
   "execution_count": 33,
   "id": "c75a143a",
   "metadata": {},
   "outputs": [
    {
     "data": {
      "text/plain": [
       "<matplotlib.legend.Legend at 0x27d0cb5f1f0>"
      ]
     },
     "execution_count": 33,
     "metadata": {},
     "output_type": "execute_result"
    },
    {
     "data": {
      "image/png": "[encoded data removed]",
      "text/plain": [
       "<Figure size 432x288 with 1 Axes>"
      ]
     },
     "metadata": {
      "needs_background": "light"
     },
     "output_type": "display_data"
    }
   ],
   "source": [
    "data1 = data[data.cluster==0]\n",
    "data2 = data[data.cluster==1]\n",
    "data3 = data[data.cluster==2]\n",
    "plt.scatter(data1.Dep_Mood,data1['Tension'],color='green')\n",
    "plt.scatter(data2.Dep_Mood,data2['Tension'],color='red')\n",
    "plt.scatter(data3.Dep_Mood,data3['Tension'],color='black')\n",
    "\n",
    "plt.scatter(km.cluster_centers_[:,0],km.cluster_centers_[:,1],color = 'purple', marker='*',label='centroid')\n",
    "plt.xlabel('Dep_Mood')\n",
    "plt.ylabel('Tension')\n",
    "plt.legend()"
   ]
  },
  {
   "cell_type": "code",
   "execution_count": 34,
   "id": "1e5660d4",
   "metadata": {},
   "outputs": [],
   "source": [
    "k_rng = range(1,10)\n",
    "sse = []\n",
    "for k in k_rng:\n",
    "    km = KMeans(n_clusters=k)\n",
    "    km.fit(data[['Stress','Tension']])\n",
    "    sse.append(km.inertia_)"
   ]
  },
  {
   "cell_type": "code",
   "execution_count": 35,
   "id": "86073ad0",
   "metadata": {},
   "outputs": [
    {
     "data": {
      "text/plain": [
       "[43892.966748401,\n",
       " 15639.232612108037,\n",
       " 9043.96377231856,\n",
       " 6397.347972877326,\n",
       " 5041.295784429911,\n",
       " 4279.952999360986,\n",
       " 3791.045265080508,\n",
       " 3402.6377459763307,\n",
       " 3080.2510535604024]"
      ]
     },
     "execution_count": 35,
     "metadata": {},
     "output_type": "execute_result"
    }
   ],
   "source": [
    "sse"
   ]
  },
  {
   "cell_type": "code",
   "execution_count": 36,
   "id": "86878059",
   "metadata": {},
   "outputs": [
    {
     "data": {
      "text/plain": [
       "[<matplotlib.lines.Line2D at 0x27d0cbe3f70>]"
      ]
     },
     "execution_count": 36,
     "metadata": {},
     "output_type": "execute_result"
    },
    {
     "data": {
      "image/png": "[encoded data removed]",
      "text/plain": [
       "<Figure size 432x288 with 1 Axes>"
      ]
     },
     "metadata": {
      "needs_background": "light"
     },
     "output_type": "display_data"
    }
   ],
   "source": [
    "plt.xlabel('K')\n",
    "plt.ylabel('Sum of squared error')\n",
    "plt.plot(k_rng,sse)"
   ]
  },
  {
   "cell_type": "markdown",
   "id": "61013edd",
   "metadata": {},
   "source": [
    "## Hierarchical  Clustering"
   ]
  },
  {
   "cell_type": "code",
   "execution_count": 37,
   "id": "0bf29181",
   "metadata": {},
   "outputs": [],
   "source": [
    "from sklearn.datasets import make_blobs\n",
    "import scipy.cluster.hierarchy as sch\n",
    "from sklearn.cluster import AgglomerativeClustering"
   ]
  },
  {
   "cell_type": "code",
   "execution_count": 38,
   "id": "9454aa0e",
   "metadata": {},
   "outputs": [],
   "source": [
    "dataset = make_blobs(n_samples = 200,\n",
    "                    n_features = 2,\n",
    "                    centers = 4,\n",
    "                    cluster_std = 1.6,\n",
    "                    random_state = 50)"
   ]
  },
  {
   "cell_type": "code",
   "execution_count": 39,
   "id": "6df15d73",
   "metadata": {},
   "outputs": [],
   "source": [
    "#dataset"
   ]
  },
  {
   "cell_type": "code",
   "execution_count": 40,
   "id": "874a511c",
   "metadata": {},
   "outputs": [],
   "source": [
    "points = dataset[0]"
   ]
  },
  {
   "cell_type": "code",
   "execution_count": 41,
   "id": "933af6b1",
   "metadata": {},
   "outputs": [
    {
     "data": {
      "image/png": "[encoded data removed]",
      "text/plain": [
       "<Figure size 432x288 with 1 Axes>"
      ]
     },
     "metadata": {
      "needs_background": "light"
     },
     "output_type": "display_data"
    }
   ],
   "source": [
    "##create a dendrogram\n",
    "dendrogram = sch.dendrogram(sch.linkage(points, method ='ward'))"
   ]
  },
  {
   "cell_type": "code",
   "execution_count": 42,
   "id": "9fde4930",
   "metadata": {},
   "outputs": [],
   "source": [
    "hc = AgglomerativeClustering(n_clusters=4,affinity = 'enclidean', linkage = 'ward')"
   ]
  },
  {
   "cell_type": "markdown",
   "id": "636f3a4c",
   "metadata": {},
   "source": [
    "Conclude your notebook with a final conclusions, evaluations and recommendations section, \n",
    "drawing all of the analysis together and highlighting any limitations of the work done\n"
   ]
  },
  {
   "cell_type": "markdown",
   "id": "e2bf652c",
   "metadata": {},
   "source": [
    "In that code first we analyze the data and explore it in better way and perform statistics analysis, then we perform classification algorithm with diagnosis the illness with gender, race, delay etc. We do logistic regression and perform train and test analysis. Then, we perform clustering with respect of KMeans and Hierarchical Clustering. The conclusion will be that we should added more categorical data in that dataset to more precise analysis and highlighting the diagnosis in more better way. The evaluation tell us that the supervised learning will give us mature data and predict the data in good way. \n",
    "The limitation will be of that study is data is need more maturity for rest of the analysis and results."
   ]
  },
  {
   "cell_type": "markdown",
   "id": "73555e02",
   "metadata": {},
   "source": [
    "Understand the code you have written"
   ]
  },
  {
   "cell_type": "markdown",
   "id": "6854ff3e",
   "metadata": {},
   "source": [
    "In that code first we analyze the data and explore it in better way and perform statistics analysis, then we perform classification algorithm with diagnosis the illness with gender, race, delay etc. We do logistic regression and perform train and test analysis. Then, we perform clustering with respect of KMeans and Hierarchical Clustering."
   ]
  },
  {
   "cell_type": "markdown",
   "id": "ab835318",
   "metadata": {},
   "source": [
    "Can explain the algorithms utilised and the results obtained"
   ]
  },
  {
   "cell_type": "markdown",
   "id": "7b3481b5",
   "metadata": {},
   "source": [
    "Yes, the result that we are looking for is obtained and all the supervised and unsupervised machine learning algorithm is running successfully."
   ]
  }
 ],
 "metadata": {
  "kernelspec": {
   "display_name": "Python 3 (ipykernel)",
   "language": "python",
   "name": "python3"
  },
  "language_info": {
   "codemirror_mode": {
    "name": "ipython",
    "version": 3
   },
   "file_extension": ".py",
   "mimetype": "text/x-python",
   "name": "python",
   "nbconvert_exporter": "python",
   "pygments_lexer": "ipython3",
   "version": "3.9.12"
  }
 },
 "nbformat": 4,
 "nbformat_minor": 5
}
